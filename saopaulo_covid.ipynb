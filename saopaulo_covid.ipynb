{
 "cells": [
  {
   "cell_type": "markdown",
   "id": "bb4811d4",
   "metadata": {},
   "source": [
    "## COVID-19"
   ]
  },
  {
   "cell_type": "markdown",
   "id": "0e49ed36",
   "metadata": {},
   "source": [
    "## São Paulo: Casos e óbitos  por município e data"
   ]
  },
  {
   "cell_type": "code",
   "execution_count": 25,
   "id": "a5a01643",
   "metadata": {},
   "outputs": [],
   "source": [
    "import pandas as pd\n",
    "import seaborn as sns\n",
    "import matplotlib.pyplot as plt"
   ]
  },
  {
   "cell_type": "code",
   "execution_count": 26,
   "id": "c24ba106",
   "metadata": {},
   "outputs": [
    {
     "data": {
      "text/html": [
       "<div>\n",
       "<style scoped>\n",
       "    .dataframe tbody tr th:only-of-type {\n",
       "        vertical-align: middle;\n",
       "    }\n",
       "\n",
       "    .dataframe tbody tr th {\n",
       "        vertical-align: top;\n",
       "    }\n",
       "\n",
       "    .dataframe thead th {\n",
       "        text-align: right;\n",
       "    }\n",
       "</style>\n",
       "<table border=\"1\" class=\"dataframe\">\n",
       "  <thead>\n",
       "    <tr style=\"text-align: right;\">\n",
       "      <th></th>\n",
       "      <th>nome_munic</th>\n",
       "      <th>codigo_ibge</th>\n",
       "      <th>datahora</th>\n",
       "      <th>casos</th>\n",
       "      <th>casos_novos</th>\n",
       "      <th>casos_pc</th>\n",
       "      <th>casos_mm7d</th>\n",
       "      <th>obitos</th>\n",
       "      <th>obitos_novos</th>\n",
       "      <th>obitos_pc</th>\n",
       "      <th>obitos_mm7d</th>\n",
       "      <th>letalidade</th>\n",
       "      <th>nome_ra</th>\n",
       "      <th>cod_ra</th>\n",
       "      <th>nome_drs</th>\n",
       "      <th>cod_drs</th>\n",
       "      <th>pop</th>\n",
       "      <th>semana_epidem</th>\n",
       "    </tr>\n",
       "  </thead>\n",
       "  <tbody>\n",
       "    <tr>\n",
       "      <th>0</th>\n",
       "      <td>Adamantina</td>\n",
       "      <td>3500105</td>\n",
       "      <td>25/02/2020</td>\n",
       "      <td>0</td>\n",
       "      <td>0</td>\n",
       "      <td>0</td>\n",
       "      <td>0</td>\n",
       "      <td>0</td>\n",
       "      <td>0</td>\n",
       "      <td>0</td>\n",
       "      <td>0</td>\n",
       "      <td>0</td>\n",
       "      <td>RA de Presidente Prudente</td>\n",
       "      <td>9</td>\n",
       "      <td>Marília</td>\n",
       "      <td>5</td>\n",
       "      <td>33894</td>\n",
       "      <td>9</td>\n",
       "    </tr>\n",
       "    <tr>\n",
       "      <th>1</th>\n",
       "      <td>Adolfo</td>\n",
       "      <td>3500204</td>\n",
       "      <td>25/02/2020</td>\n",
       "      <td>0</td>\n",
       "      <td>0</td>\n",
       "      <td>0</td>\n",
       "      <td>0</td>\n",
       "      <td>0</td>\n",
       "      <td>0</td>\n",
       "      <td>0</td>\n",
       "      <td>0</td>\n",
       "      <td>0</td>\n",
       "      <td>RA de São José do Rio Preto</td>\n",
       "      <td>14</td>\n",
       "      <td>São José do Rio Preto</td>\n",
       "      <td>15</td>\n",
       "      <td>3447</td>\n",
       "      <td>9</td>\n",
       "    </tr>\n",
       "    <tr>\n",
       "      <th>2</th>\n",
       "      <td>Aguaí</td>\n",
       "      <td>3500303</td>\n",
       "      <td>25/02/2020</td>\n",
       "      <td>0</td>\n",
       "      <td>0</td>\n",
       "      <td>0</td>\n",
       "      <td>0</td>\n",
       "      <td>0</td>\n",
       "      <td>0</td>\n",
       "      <td>0</td>\n",
       "      <td>0</td>\n",
       "      <td>0</td>\n",
       "      <td>RA de Campinas</td>\n",
       "      <td>4</td>\n",
       "      <td>São João da Boa Vista</td>\n",
       "      <td>14</td>\n",
       "      <td>35608</td>\n",
       "      <td>9</td>\n",
       "    </tr>\n",
       "    <tr>\n",
       "      <th>3</th>\n",
       "      <td>Águas da Prata</td>\n",
       "      <td>3500402</td>\n",
       "      <td>25/02/2020</td>\n",
       "      <td>0</td>\n",
       "      <td>0</td>\n",
       "      <td>0</td>\n",
       "      <td>0</td>\n",
       "      <td>0</td>\n",
       "      <td>0</td>\n",
       "      <td>0</td>\n",
       "      <td>0</td>\n",
       "      <td>0</td>\n",
       "      <td>RA de Campinas</td>\n",
       "      <td>4</td>\n",
       "      <td>São João da Boa Vista</td>\n",
       "      <td>14</td>\n",
       "      <td>7797</td>\n",
       "      <td>9</td>\n",
       "    </tr>\n",
       "    <tr>\n",
       "      <th>4</th>\n",
       "      <td>Águas de Lindóia</td>\n",
       "      <td>3500501</td>\n",
       "      <td>25/02/2020</td>\n",
       "      <td>0</td>\n",
       "      <td>0</td>\n",
       "      <td>0</td>\n",
       "      <td>0</td>\n",
       "      <td>0</td>\n",
       "      <td>0</td>\n",
       "      <td>0</td>\n",
       "      <td>0</td>\n",
       "      <td>0</td>\n",
       "      <td>RA de Campinas</td>\n",
       "      <td>4</td>\n",
       "      <td>Campinas</td>\n",
       "      <td>3</td>\n",
       "      <td>18374</td>\n",
       "      <td>9</td>\n",
       "    </tr>\n",
       "  </tbody>\n",
       "</table>\n",
       "</div>"
      ],
      "text/plain": [
       "         nome_munic  codigo_ibge    datahora  casos  casos_novos  casos_pc  \\\n",
       "0        Adamantina      3500105  25/02/2020      0            0         0   \n",
       "1            Adolfo      3500204  25/02/2020      0            0         0   \n",
       "2             Aguaí      3500303  25/02/2020      0            0         0   \n",
       "3    Águas da Prata      3500402  25/02/2020      0            0         0   \n",
       "4  Águas de Lindóia      3500501  25/02/2020      0            0         0   \n",
       "\n",
       "   casos_mm7d  obitos  obitos_novos  obitos_pc  obitos_mm7d  letalidade  \\\n",
       "0           0       0             0          0            0           0   \n",
       "1           0       0             0          0            0           0   \n",
       "2           0       0             0          0            0           0   \n",
       "3           0       0             0          0            0           0   \n",
       "4           0       0             0          0            0           0   \n",
       "\n",
       "                       nome_ra  cod_ra               nome_drs  cod_drs    pop  \\\n",
       "0    RA de Presidente Prudente       9                Marília        5  33894   \n",
       "1  RA de São José do Rio Preto      14  São José do Rio Preto       15   3447   \n",
       "2               RA de Campinas       4  São João da Boa Vista       14  35608   \n",
       "3               RA de Campinas       4  São João da Boa Vista       14   7797   \n",
       "4               RA de Campinas       4               Campinas        3  18374   \n",
       "\n",
       "   semana_epidem  \n",
       "0              9  \n",
       "1              9  \n",
       "2              9  \n",
       "3              9  \n",
       "4              9  "
      ]
     },
     "execution_count": 26,
     "metadata": {},
     "output_type": "execute_result"
    }
   ],
   "source": [
    "dados = pd.read_csv(\"_dados_covid_municipios_sp.csv\", sep=';', encoding='latin1')\n",
    "dados.head()"
   ]
  },
  {
   "cell_type": "code",
   "execution_count": 27,
   "id": "e1af0c6d",
   "metadata": {},
   "outputs": [],
   "source": [
    "dados = dados.rename(columns={'nome_munic':'Município'})"
   ]
  },
  {
   "cell_type": "code",
   "execution_count": 28,
   "id": "853da0ce",
   "metadata": {},
   "outputs": [
    {
     "data": {
      "text/html": [
       "<div>\n",
       "<style scoped>\n",
       "    .dataframe tbody tr th:only-of-type {\n",
       "        vertical-align: middle;\n",
       "    }\n",
       "\n",
       "    .dataframe tbody tr th {\n",
       "        vertical-align: top;\n",
       "    }\n",
       "\n",
       "    .dataframe thead th {\n",
       "        text-align: right;\n",
       "    }\n",
       "</style>\n",
       "<table border=\"1\" class=\"dataframe\">\n",
       "  <thead>\n",
       "    <tr style=\"text-align: right;\">\n",
       "      <th></th>\n",
       "      <th>Município</th>\n",
       "      <th>codigo_ibge</th>\n",
       "      <th>datahora</th>\n",
       "      <th>casos</th>\n",
       "      <th>casos_novos</th>\n",
       "      <th>casos_pc</th>\n",
       "      <th>casos_mm7d</th>\n",
       "      <th>obitos</th>\n",
       "      <th>obitos_novos</th>\n",
       "      <th>obitos_pc</th>\n",
       "      <th>obitos_mm7d</th>\n",
       "      <th>letalidade</th>\n",
       "      <th>nome_ra</th>\n",
       "      <th>cod_ra</th>\n",
       "      <th>nome_drs</th>\n",
       "      <th>cod_drs</th>\n",
       "      <th>pop</th>\n",
       "      <th>semana_epidem</th>\n",
       "    </tr>\n",
       "  </thead>\n",
       "  <tbody>\n",
       "    <tr>\n",
       "      <th>467699</th>\n",
       "      <td>Ignorado</td>\n",
       "      <td>9999999</td>\n",
       "      <td>13/02/2022</td>\n",
       "      <td>533</td>\n",
       "      <td>-196</td>\n",
       "      <td>0</td>\n",
       "      <td>-56</td>\n",
       "      <td>3</td>\n",
       "      <td>0</td>\n",
       "      <td>0</td>\n",
       "      <td>-1</td>\n",
       "      <td>0</td>\n",
       "      <td>NaN</td>\n",
       "      <td>0</td>\n",
       "      <td>NaN</td>\n",
       "      <td>0</td>\n",
       "      <td>0</td>\n",
       "      <td>7</td>\n",
       "    </tr>\n",
       "    <tr>\n",
       "      <th>467700</th>\n",
       "      <td>Ignorado</td>\n",
       "      <td>9999999</td>\n",
       "      <td>14/02/2022</td>\n",
       "      <td>294</td>\n",
       "      <td>-239</td>\n",
       "      <td>0</td>\n",
       "      <td>-63</td>\n",
       "      <td>2</td>\n",
       "      <td>-1</td>\n",
       "      <td>0</td>\n",
       "      <td>-1</td>\n",
       "      <td>0</td>\n",
       "      <td>NaN</td>\n",
       "      <td>0</td>\n",
       "      <td>NaN</td>\n",
       "      <td>0</td>\n",
       "      <td>0</td>\n",
       "      <td>7</td>\n",
       "    </tr>\n",
       "    <tr>\n",
       "      <th>467701</th>\n",
       "      <td>Ignorado</td>\n",
       "      <td>9999999</td>\n",
       "      <td>15/02/2022</td>\n",
       "      <td>249</td>\n",
       "      <td>-45</td>\n",
       "      <td>0</td>\n",
       "      <td>-67</td>\n",
       "      <td>2</td>\n",
       "      <td>0</td>\n",
       "      <td>0</td>\n",
       "      <td>-1</td>\n",
       "      <td>0</td>\n",
       "      <td>NaN</td>\n",
       "      <td>0</td>\n",
       "      <td>NaN</td>\n",
       "      <td>0</td>\n",
       "      <td>0</td>\n",
       "      <td>7</td>\n",
       "    </tr>\n",
       "    <tr>\n",
       "      <th>467702</th>\n",
       "      <td>Ignorado</td>\n",
       "      <td>9999999</td>\n",
       "      <td>16/02/2022</td>\n",
       "      <td>195</td>\n",
       "      <td>-54</td>\n",
       "      <td>0</td>\n",
       "      <td>-66</td>\n",
       "      <td>5</td>\n",
       "      <td>3</td>\n",
       "      <td>0</td>\n",
       "      <td>0</td>\n",
       "      <td>0</td>\n",
       "      <td>NaN</td>\n",
       "      <td>0</td>\n",
       "      <td>NaN</td>\n",
       "      <td>0</td>\n",
       "      <td>0</td>\n",
       "      <td>7</td>\n",
       "    </tr>\n",
       "    <tr>\n",
       "      <th>467703</th>\n",
       "      <td>Ignorado</td>\n",
       "      <td>9999999</td>\n",
       "      <td>17/02/2022</td>\n",
       "      <td>128</td>\n",
       "      <td>-67</td>\n",
       "      <td>0</td>\n",
       "      <td>-59</td>\n",
       "      <td>0</td>\n",
       "      <td>-5</td>\n",
       "      <td>0</td>\n",
       "      <td>-1</td>\n",
       "      <td>0</td>\n",
       "      <td>NaN</td>\n",
       "      <td>0</td>\n",
       "      <td>NaN</td>\n",
       "      <td>0</td>\n",
       "      <td>0</td>\n",
       "      <td>7</td>\n",
       "    </tr>\n",
       "  </tbody>\n",
       "</table>\n",
       "</div>"
      ],
      "text/plain": [
       "       Município  codigo_ibge    datahora  casos  casos_novos  casos_pc  \\\n",
       "467699  Ignorado      9999999  13/02/2022    533         -196         0   \n",
       "467700  Ignorado      9999999  14/02/2022    294         -239         0   \n",
       "467701  Ignorado      9999999  15/02/2022    249          -45         0   \n",
       "467702  Ignorado      9999999  16/02/2022    195          -54         0   \n",
       "467703  Ignorado      9999999  17/02/2022    128          -67         0   \n",
       "\n",
       "        casos_mm7d  obitos  obitos_novos  obitos_pc  obitos_mm7d  letalidade  \\\n",
       "467699         -56       3             0          0           -1           0   \n",
       "467700         -63       2            -1          0           -1           0   \n",
       "467701         -67       2             0          0           -1           0   \n",
       "467702         -66       5             3          0            0           0   \n",
       "467703         -59       0            -5          0           -1           0   \n",
       "\n",
       "       nome_ra  cod_ra nome_drs  cod_drs  pop  semana_epidem  \n",
       "467699     NaN       0      NaN        0    0              7  \n",
       "467700     NaN       0      NaN        0    0              7  \n",
       "467701     NaN       0      NaN        0    0              7  \n",
       "467702     NaN       0      NaN        0    0              7  \n",
       "467703     NaN       0      NaN        0    0              7  "
      ]
     },
     "execution_count": 28,
     "metadata": {},
     "output_type": "execute_result"
    }
   ],
   "source": [
    "dados.tail()"
   ]
  },
  {
   "cell_type": "code",
   "execution_count": 29,
   "id": "a6b2b760",
   "metadata": {},
   "outputs": [
    {
     "name": "stdout",
     "output_type": "stream",
     "text": [
      "<class 'pandas.core.frame.DataFrame'>\n",
      "RangeIndex: 467704 entries, 0 to 467703\n",
      "Data columns (total 18 columns):\n",
      " #   Column         Non-Null Count   Dtype \n",
      "---  ------         --------------   ----- \n",
      " 0   Município      467704 non-null  object\n",
      " 1   codigo_ibge    467704 non-null  int64 \n",
      " 2   datahora       467704 non-null  object\n",
      " 3   casos          467704 non-null  int64 \n",
      " 4   casos_novos    467704 non-null  int64 \n",
      " 5   casos_pc       467704 non-null  int64 \n",
      " 6   casos_mm7d     467704 non-null  int64 \n",
      " 7   obitos         467704 non-null  int64 \n",
      " 8   obitos_novos   467704 non-null  int64 \n",
      " 9   obitos_pc      467704 non-null  int64 \n",
      " 10  obitos_mm7d    467704 non-null  int64 \n",
      " 11  letalidade     467704 non-null  int64 \n",
      " 12  nome_ra        466980 non-null  object\n",
      " 13  cod_ra         467704 non-null  int64 \n",
      " 14  nome_drs       466980 non-null  object\n",
      " 15  cod_drs        467704 non-null  int64 \n",
      " 16  pop            467704 non-null  int64 \n",
      " 17  semana_epidem  467704 non-null  int64 \n",
      "dtypes: int64(14), object(4)\n",
      "memory usage: 64.2+ MB\n"
     ]
    }
   ],
   "source": [
    "dados.info()"
   ]
  },
  {
   "cell_type": "code",
   "execution_count": 30,
   "id": "55a24a1e",
   "metadata": {},
   "outputs": [],
   "source": [
    "dados = dados.dropna()"
   ]
  },
  {
   "cell_type": "code",
   "execution_count": 31,
   "id": "50439e5b",
   "metadata": {},
   "outputs": [
    {
     "data": {
      "text/html": [
       "<div>\n",
       "<style scoped>\n",
       "    .dataframe tbody tr th:only-of-type {\n",
       "        vertical-align: middle;\n",
       "    }\n",
       "\n",
       "    .dataframe tbody tr th {\n",
       "        vertical-align: top;\n",
       "    }\n",
       "\n",
       "    .dataframe thead th {\n",
       "        text-align: right;\n",
       "    }\n",
       "</style>\n",
       "<table border=\"1\" class=\"dataframe\">\n",
       "  <thead>\n",
       "    <tr style=\"text-align: right;\">\n",
       "      <th></th>\n",
       "      <th>codigo_ibge</th>\n",
       "      <th>casos</th>\n",
       "      <th>casos_novos</th>\n",
       "      <th>casos_pc</th>\n",
       "      <th>casos_mm7d</th>\n",
       "      <th>obitos</th>\n",
       "      <th>obitos_novos</th>\n",
       "      <th>obitos_pc</th>\n",
       "      <th>obitos_mm7d</th>\n",
       "      <th>letalidade</th>\n",
       "      <th>cod_ra</th>\n",
       "      <th>cod_drs</th>\n",
       "      <th>pop</th>\n",
       "      <th>semana_epidem</th>\n",
       "    </tr>\n",
       "  </thead>\n",
       "  <tbody>\n",
       "    <tr>\n",
       "      <th>count</th>\n",
       "      <td>4.669800e+05</td>\n",
       "      <td>4.669800e+05</td>\n",
       "      <td>466980.000000</td>\n",
       "      <td>466980.000000</td>\n",
       "      <td>466980.000000</td>\n",
       "      <td>466980.000000</td>\n",
       "      <td>466980.000000</td>\n",
       "      <td>466980.000000</td>\n",
       "      <td>466980.000000</td>\n",
       "      <td>466980.000000</td>\n",
       "      <td>466980.000000</td>\n",
       "      <td>466980.000000</td>\n",
       "      <td>4.669800e+05</td>\n",
       "      <td>466980.000000</td>\n",
       "    </tr>\n",
       "    <tr>\n",
       "      <th>mean</th>\n",
       "      <td>3.528698e+06</td>\n",
       "      <td>3.515552e+03</td>\n",
       "      <td>10.489015</td>\n",
       "      <td>5363.535432</td>\n",
       "      <td>10.377014</td>\n",
       "      <td>119.681847</td>\n",
       "      <td>0.348017</td>\n",
       "      <td>144.051850</td>\n",
       "      <td>0.309422</td>\n",
       "      <td>0.002077</td>\n",
       "      <td>8.483721</td>\n",
       "      <td>9.155039</td>\n",
       "      <td>6.920915e+04</td>\n",
       "      <td>27.037293</td>\n",
       "    </tr>\n",
       "    <tr>\n",
       "      <th>std</th>\n",
       "      <td>1.668739e+04</td>\n",
       "      <td>2.657804e+04</td>\n",
       "      <td>82.669770</td>\n",
       "      <td>5181.996960</td>\n",
       "      <td>71.933506</td>\n",
       "      <td>1047.367077</td>\n",
       "      <td>3.500117</td>\n",
       "      <td>148.067906</td>\n",
       "      <td>2.950965</td>\n",
       "      <td>0.045529</td>\n",
       "      <td>4.562929</td>\n",
       "      <td>4.976305</td>\n",
       "      <td>4.798152e+05</td>\n",
       "      <td>15.092731</td>\n",
       "    </tr>\n",
       "    <tr>\n",
       "      <th>min</th>\n",
       "      <td>3.500105e+06</td>\n",
       "      <td>0.000000e+00</td>\n",
       "      <td>0.000000</td>\n",
       "      <td>0.000000</td>\n",
       "      <td>0.000000</td>\n",
       "      <td>0.000000</td>\n",
       "      <td>0.000000</td>\n",
       "      <td>0.000000</td>\n",
       "      <td>0.000000</td>\n",
       "      <td>0.000000</td>\n",
       "      <td>1.000000</td>\n",
       "      <td>1.000000</td>\n",
       "      <td>8.120000e+02</td>\n",
       "      <td>1.000000</td>\n",
       "    </tr>\n",
       "    <tr>\n",
       "      <th>25%</th>\n",
       "      <td>3.514601e+06</td>\n",
       "      <td>7.100000e+01</td>\n",
       "      <td>0.000000</td>\n",
       "      <td>812.000000</td>\n",
       "      <td>0.000000</td>\n",
       "      <td>2.000000</td>\n",
       "      <td>0.000000</td>\n",
       "      <td>16.000000</td>\n",
       "      <td>0.000000</td>\n",
       "      <td>0.000000</td>\n",
       "      <td>4.000000</td>\n",
       "      <td>5.000000</td>\n",
       "      <td>5.534000e+03</td>\n",
       "      <td>14.000000</td>\n",
       "    </tr>\n",
       "    <tr>\n",
       "      <th>50%</th>\n",
       "      <td>3.528700e+06</td>\n",
       "      <td>4.080000e+02</td>\n",
       "      <td>0.000000</td>\n",
       "      <td>3833.000000</td>\n",
       "      <td>1.000000</td>\n",
       "      <td>10.000000</td>\n",
       "      <td>0.000000</td>\n",
       "      <td>92.000000</td>\n",
       "      <td>0.000000</td>\n",
       "      <td>0.000000</td>\n",
       "      <td>8.000000</td>\n",
       "      <td>9.000000</td>\n",
       "      <td>1.331900e+04</td>\n",
       "      <td>27.000000</td>\n",
       "    </tr>\n",
       "    <tr>\n",
       "      <th>75%</th>\n",
       "      <td>3.543204e+06</td>\n",
       "      <td>1.749000e+03</td>\n",
       "      <td>3.000000</td>\n",
       "      <td>9129.000000</td>\n",
       "      <td>5.000000</td>\n",
       "      <td>46.000000</td>\n",
       "      <td>0.000000</td>\n",
       "      <td>248.000000</td>\n",
       "      <td>0.000000</td>\n",
       "      <td>0.000000</td>\n",
       "      <td>13.000000</td>\n",
       "      <td>14.000000</td>\n",
       "      <td>4.107300e+04</td>\n",
       "      <td>40.000000</td>\n",
       "    </tr>\n",
       "    <tr>\n",
       "      <th>max</th>\n",
       "      <td>3.557303e+06</td>\n",
       "      <td>1.027916e+06</td>\n",
       "      <td>8646.000000</td>\n",
       "      <td>33523.000000</td>\n",
       "      <td>4706.000000</td>\n",
       "      <td>41061.000000</td>\n",
       "      <td>378.000000</td>\n",
       "      <td>925.000000</td>\n",
       "      <td>226.000000</td>\n",
       "      <td>1.000000</td>\n",
       "      <td>16.000000</td>\n",
       "      <td>17.000000</td>\n",
       "      <td>1.186966e+07</td>\n",
       "      <td>53.000000</td>\n",
       "    </tr>\n",
       "  </tbody>\n",
       "</table>\n",
       "</div>"
      ],
      "text/plain": [
       "        codigo_ibge         casos    casos_novos       casos_pc  \\\n",
       "count  4.669800e+05  4.669800e+05  466980.000000  466980.000000   \n",
       "mean   3.528698e+06  3.515552e+03      10.489015    5363.535432   \n",
       "std    1.668739e+04  2.657804e+04      82.669770    5181.996960   \n",
       "min    3.500105e+06  0.000000e+00       0.000000       0.000000   \n",
       "25%    3.514601e+06  7.100000e+01       0.000000     812.000000   \n",
       "50%    3.528700e+06  4.080000e+02       0.000000    3833.000000   \n",
       "75%    3.543204e+06  1.749000e+03       3.000000    9129.000000   \n",
       "max    3.557303e+06  1.027916e+06    8646.000000   33523.000000   \n",
       "\n",
       "          casos_mm7d         obitos   obitos_novos      obitos_pc  \\\n",
       "count  466980.000000  466980.000000  466980.000000  466980.000000   \n",
       "mean       10.377014     119.681847       0.348017     144.051850   \n",
       "std        71.933506    1047.367077       3.500117     148.067906   \n",
       "min         0.000000       0.000000       0.000000       0.000000   \n",
       "25%         0.000000       2.000000       0.000000      16.000000   \n",
       "50%         1.000000      10.000000       0.000000      92.000000   \n",
       "75%         5.000000      46.000000       0.000000     248.000000   \n",
       "max      4706.000000   41061.000000     378.000000     925.000000   \n",
       "\n",
       "         obitos_mm7d     letalidade         cod_ra        cod_drs  \\\n",
       "count  466980.000000  466980.000000  466980.000000  466980.000000   \n",
       "mean        0.309422       0.002077       8.483721       9.155039   \n",
       "std         2.950965       0.045529       4.562929       4.976305   \n",
       "min         0.000000       0.000000       1.000000       1.000000   \n",
       "25%         0.000000       0.000000       4.000000       5.000000   \n",
       "50%         0.000000       0.000000       8.000000       9.000000   \n",
       "75%         0.000000       0.000000      13.000000      14.000000   \n",
       "max       226.000000       1.000000      16.000000      17.000000   \n",
       "\n",
       "                pop  semana_epidem  \n",
       "count  4.669800e+05  466980.000000  \n",
       "mean   6.920915e+04      27.037293  \n",
       "std    4.798152e+05      15.092731  \n",
       "min    8.120000e+02       1.000000  \n",
       "25%    5.534000e+03      14.000000  \n",
       "50%    1.331900e+04      27.000000  \n",
       "75%    4.107300e+04      40.000000  \n",
       "max    1.186966e+07      53.000000  "
      ]
     },
     "execution_count": 31,
     "metadata": {},
     "output_type": "execute_result"
    }
   ],
   "source": [
    "dados.describe()"
   ]
  },
  {
   "cell_type": "code",
   "execution_count": 32,
   "id": "f23a0d94",
   "metadata": {},
   "outputs": [],
   "source": [
    "dados['datahora'] = pd.to_datetime(dados['datahora'], format = '%d/%m/%Y')"
   ]
  },
  {
   "cell_type": "code",
   "execution_count": 33,
   "id": "c42c7102",
   "metadata": {},
   "outputs": [
    {
     "data": {
      "text/html": [
       "<div>\n",
       "<style scoped>\n",
       "    .dataframe tbody tr th:only-of-type {\n",
       "        vertical-align: middle;\n",
       "    }\n",
       "\n",
       "    .dataframe tbody tr th {\n",
       "        vertical-align: top;\n",
       "    }\n",
       "\n",
       "    .dataframe thead th {\n",
       "        text-align: right;\n",
       "    }\n",
       "</style>\n",
       "<table border=\"1\" class=\"dataframe\">\n",
       "  <thead>\n",
       "    <tr style=\"text-align: right;\">\n",
       "      <th></th>\n",
       "      <th>Município</th>\n",
       "      <th>codigo_ibge</th>\n",
       "      <th>datahora</th>\n",
       "      <th>casos</th>\n",
       "      <th>casos_novos</th>\n",
       "      <th>casos_pc</th>\n",
       "      <th>casos_mm7d</th>\n",
       "      <th>obitos</th>\n",
       "      <th>obitos_novos</th>\n",
       "      <th>obitos_pc</th>\n",
       "      <th>obitos_mm7d</th>\n",
       "      <th>letalidade</th>\n",
       "      <th>nome_ra</th>\n",
       "      <th>cod_ra</th>\n",
       "      <th>nome_drs</th>\n",
       "      <th>cod_drs</th>\n",
       "      <th>pop</th>\n",
       "      <th>semana_epidem</th>\n",
       "    </tr>\n",
       "  </thead>\n",
       "  <tbody>\n",
       "    <tr>\n",
       "      <th>0</th>\n",
       "      <td>Adamantina</td>\n",
       "      <td>3500105</td>\n",
       "      <td>2020-02-25</td>\n",
       "      <td>0</td>\n",
       "      <td>0</td>\n",
       "      <td>0</td>\n",
       "      <td>0</td>\n",
       "      <td>0</td>\n",
       "      <td>0</td>\n",
       "      <td>0</td>\n",
       "      <td>0</td>\n",
       "      <td>0</td>\n",
       "      <td>RA de Presidente Prudente</td>\n",
       "      <td>9</td>\n",
       "      <td>Marília</td>\n",
       "      <td>5</td>\n",
       "      <td>33894</td>\n",
       "      <td>9</td>\n",
       "    </tr>\n",
       "    <tr>\n",
       "      <th>1</th>\n",
       "      <td>Adolfo</td>\n",
       "      <td>3500204</td>\n",
       "      <td>2020-02-25</td>\n",
       "      <td>0</td>\n",
       "      <td>0</td>\n",
       "      <td>0</td>\n",
       "      <td>0</td>\n",
       "      <td>0</td>\n",
       "      <td>0</td>\n",
       "      <td>0</td>\n",
       "      <td>0</td>\n",
       "      <td>0</td>\n",
       "      <td>RA de São José do Rio Preto</td>\n",
       "      <td>14</td>\n",
       "      <td>São José do Rio Preto</td>\n",
       "      <td>15</td>\n",
       "      <td>3447</td>\n",
       "      <td>9</td>\n",
       "    </tr>\n",
       "    <tr>\n",
       "      <th>2</th>\n",
       "      <td>Aguaí</td>\n",
       "      <td>3500303</td>\n",
       "      <td>2020-02-25</td>\n",
       "      <td>0</td>\n",
       "      <td>0</td>\n",
       "      <td>0</td>\n",
       "      <td>0</td>\n",
       "      <td>0</td>\n",
       "      <td>0</td>\n",
       "      <td>0</td>\n",
       "      <td>0</td>\n",
       "      <td>0</td>\n",
       "      <td>RA de Campinas</td>\n",
       "      <td>4</td>\n",
       "      <td>São João da Boa Vista</td>\n",
       "      <td>14</td>\n",
       "      <td>35608</td>\n",
       "      <td>9</td>\n",
       "    </tr>\n",
       "    <tr>\n",
       "      <th>3</th>\n",
       "      <td>Águas da Prata</td>\n",
       "      <td>3500402</td>\n",
       "      <td>2020-02-25</td>\n",
       "      <td>0</td>\n",
       "      <td>0</td>\n",
       "      <td>0</td>\n",
       "      <td>0</td>\n",
       "      <td>0</td>\n",
       "      <td>0</td>\n",
       "      <td>0</td>\n",
       "      <td>0</td>\n",
       "      <td>0</td>\n",
       "      <td>RA de Campinas</td>\n",
       "      <td>4</td>\n",
       "      <td>São João da Boa Vista</td>\n",
       "      <td>14</td>\n",
       "      <td>7797</td>\n",
       "      <td>9</td>\n",
       "    </tr>\n",
       "    <tr>\n",
       "      <th>4</th>\n",
       "      <td>Águas de Lindóia</td>\n",
       "      <td>3500501</td>\n",
       "      <td>2020-02-25</td>\n",
       "      <td>0</td>\n",
       "      <td>0</td>\n",
       "      <td>0</td>\n",
       "      <td>0</td>\n",
       "      <td>0</td>\n",
       "      <td>0</td>\n",
       "      <td>0</td>\n",
       "      <td>0</td>\n",
       "      <td>0</td>\n",
       "      <td>RA de Campinas</td>\n",
       "      <td>4</td>\n",
       "      <td>Campinas</td>\n",
       "      <td>3</td>\n",
       "      <td>18374</td>\n",
       "      <td>9</td>\n",
       "    </tr>\n",
       "  </tbody>\n",
       "</table>\n",
       "</div>"
      ],
      "text/plain": [
       "          Município  codigo_ibge   datahora  casos  casos_novos  casos_pc  \\\n",
       "0        Adamantina      3500105 2020-02-25      0            0         0   \n",
       "1            Adolfo      3500204 2020-02-25      0            0         0   \n",
       "2             Aguaí      3500303 2020-02-25      0            0         0   \n",
       "3    Águas da Prata      3500402 2020-02-25      0            0         0   \n",
       "4  Águas de Lindóia      3500501 2020-02-25      0            0         0   \n",
       "\n",
       "   casos_mm7d  obitos  obitos_novos  obitos_pc  obitos_mm7d  letalidade  \\\n",
       "0           0       0             0          0            0           0   \n",
       "1           0       0             0          0            0           0   \n",
       "2           0       0             0          0            0           0   \n",
       "3           0       0             0          0            0           0   \n",
       "4           0       0             0          0            0           0   \n",
       "\n",
       "                       nome_ra  cod_ra               nome_drs  cod_drs    pop  \\\n",
       "0    RA de Presidente Prudente       9                Marília        5  33894   \n",
       "1  RA de São José do Rio Preto      14  São José do Rio Preto       15   3447   \n",
       "2               RA de Campinas       4  São João da Boa Vista       14  35608   \n",
       "3               RA de Campinas       4  São João da Boa Vista       14   7797   \n",
       "4               RA de Campinas       4               Campinas        3  18374   \n",
       "\n",
       "   semana_epidem  \n",
       "0              9  \n",
       "1              9  \n",
       "2              9  \n",
       "3              9  \n",
       "4              9  "
      ]
     },
     "execution_count": 33,
     "metadata": {},
     "output_type": "execute_result"
    }
   ],
   "source": [
    "dados.head()"
   ]
  },
  {
   "cell_type": "code",
   "execution_count": 34,
   "id": "230e2e5b",
   "metadata": {},
   "outputs": [
    {
     "data": {
      "text/plain": [
       "(466980, 18)"
      ]
     },
     "execution_count": 34,
     "metadata": {},
     "output_type": "execute_result"
    }
   ],
   "source": [
    "dados.shape"
   ]
  },
  {
   "cell_type": "code",
   "execution_count": 35,
   "id": "64ae6d40",
   "metadata": {},
   "outputs": [
    {
     "data": {
      "text/plain": [
       "RA de São José do Rio Preto    69504\n",
       "RA de Campinas                 65160\n",
       "RA de Presidente Prudente      38372\n",
       "RA de Marília                  36924\n",
       "RA de Sorocaba                 34028\n",
       "RA de Araçatuba                31132\n",
       "RA de Bauru                    28236\n",
       "RA de São José dos Campos      28236\n",
       "RM de São Paulo                28236\n",
       "RA de Itapeva                  23168\n",
       "RA Central                     18824\n",
       "RA de Ribeirão Preto           18100\n",
       "RA de Franca                   16652\n",
       "RA de Barretos                 13756\n",
       "RA de Registro                 10136\n",
       "RA de Santos                    6516\n",
       "Name: nome_ra, dtype: int64"
      ]
     },
     "execution_count": 35,
     "metadata": {},
     "output_type": "execute_result"
    }
   ],
   "source": [
    "# Região Administrativa\n",
    "dados['nome_ra'].value_counts()"
   ]
  },
  {
   "cell_type": "code",
   "execution_count": 36,
   "id": "a4687a82",
   "metadata": {},
   "outputs": [
    {
     "data": {
      "text/html": [
       "<div>\n",
       "<style scoped>\n",
       "    .dataframe tbody tr th:only-of-type {\n",
       "        vertical-align: middle;\n",
       "    }\n",
       "\n",
       "    .dataframe tbody tr th {\n",
       "        vertical-align: top;\n",
       "    }\n",
       "\n",
       "    .dataframe thead th {\n",
       "        text-align: right;\n",
       "    }\n",
       "</style>\n",
       "<table border=\"1\" class=\"dataframe\">\n",
       "  <thead>\n",
       "    <tr style=\"text-align: right;\">\n",
       "      <th></th>\n",
       "      <th>casos</th>\n",
       "    </tr>\n",
       "    <tr>\n",
       "      <th>nome_ra</th>\n",
       "      <th></th>\n",
       "    </tr>\n",
       "  </thead>\n",
       "  <tbody>\n",
       "    <tr>\n",
       "      <th>RA Central</th>\n",
       "      <td>2122.045739</td>\n",
       "    </tr>\n",
       "    <tr>\n",
       "      <th>RA de Araçatuba</th>\n",
       "      <td>1182.476327</td>\n",
       "    </tr>\n",
       "    <tr>\n",
       "      <th>RA de Barretos</th>\n",
       "      <td>1501.643864</td>\n",
       "    </tr>\n",
       "    <tr>\n",
       "      <th>RA de Bauru</th>\n",
       "      <td>1830.370378</td>\n",
       "    </tr>\n",
       "    <tr>\n",
       "      <th>RA de Campinas</th>\n",
       "      <td>4367.065270</td>\n",
       "    </tr>\n",
       "    <tr>\n",
       "      <th>RA de Franca</th>\n",
       "      <td>1610.712527</td>\n",
       "    </tr>\n",
       "    <tr>\n",
       "      <th>RA de Itapeva</th>\n",
       "      <td>886.487958</td>\n",
       "    </tr>\n",
       "    <tr>\n",
       "      <th>RA de Marília</th>\n",
       "      <td>1089.892076</td>\n",
       "    </tr>\n",
       "    <tr>\n",
       "      <th>RA de Presidente Prudente</th>\n",
       "      <td>874.429323</td>\n",
       "    </tr>\n",
       "    <tr>\n",
       "      <th>RA de Registro</th>\n",
       "      <td>1144.963299</td>\n",
       "    </tr>\n",
       "    <tr>\n",
       "      <th>RA de Ribeirão Preto</th>\n",
       "      <td>3331.209724</td>\n",
       "    </tr>\n",
       "    <tr>\n",
       "      <th>RA de Santos</th>\n",
       "      <td>10405.226673</td>\n",
       "    </tr>\n",
       "    <tr>\n",
       "      <th>RA de Sorocaba</th>\n",
       "      <td>2973.433672</td>\n",
       "    </tr>\n",
       "    <tr>\n",
       "      <th>RA de São José do Rio Preto</th>\n",
       "      <td>1383.641388</td>\n",
       "    </tr>\n",
       "    <tr>\n",
       "      <th>RA de São José dos Campos</th>\n",
       "      <td>3406.561517</td>\n",
       "    </tr>\n",
       "    <tr>\n",
       "      <th>RM de São Paulo</th>\n",
       "      <td>23149.298697</td>\n",
       "    </tr>\n",
       "  </tbody>\n",
       "</table>\n",
       "</div>"
      ],
      "text/plain": [
       "                                    casos\n",
       "nome_ra                                  \n",
       "RA Central                    2122.045739\n",
       "RA de Araçatuba               1182.476327\n",
       "RA de Barretos                1501.643864\n",
       "RA de Bauru                   1830.370378\n",
       "RA de Campinas                4367.065270\n",
       "RA de Franca                  1610.712527\n",
       "RA de Itapeva                  886.487958\n",
       "RA de Marília                 1089.892076\n",
       "RA de Presidente Prudente      874.429323\n",
       "RA de Registro                1144.963299\n",
       "RA de Ribeirão Preto          3331.209724\n",
       "RA de Santos                 10405.226673\n",
       "RA de Sorocaba                2973.433672\n",
       "RA de São José do Rio Preto   1383.641388\n",
       "RA de São José dos Campos     3406.561517\n",
       "RM de São Paulo              23149.298697"
      ]
     },
     "execution_count": 36,
     "metadata": {},
     "output_type": "execute_result"
    }
   ],
   "source": [
    "dados.groupby('nome_ra').agg({'casos':'mean'})"
   ]
  },
  {
   "cell_type": "code",
   "execution_count": 37,
   "id": "f0c663f9",
   "metadata": {},
   "outputs": [
    {
     "data": {
      "text/html": [
       "<div>\n",
       "<style scoped>\n",
       "    .dataframe tbody tr th:only-of-type {\n",
       "        vertical-align: middle;\n",
       "    }\n",
       "\n",
       "    .dataframe tbody tr th {\n",
       "        vertical-align: top;\n",
       "    }\n",
       "\n",
       "    .dataframe thead th {\n",
       "        text-align: right;\n",
       "    }\n",
       "</style>\n",
       "<table border=\"1\" class=\"dataframe\">\n",
       "  <thead>\n",
       "    <tr style=\"text-align: right;\">\n",
       "      <th></th>\n",
       "      <th>casos</th>\n",
       "    </tr>\n",
       "    <tr>\n",
       "      <th>Município</th>\n",
       "      <th></th>\n",
       "    </tr>\n",
       "  </thead>\n",
       "  <tbody>\n",
       "    <tr>\n",
       "      <th>São Paulo</th>\n",
       "      <td>390932404</td>\n",
       "    </tr>\n",
       "    <tr>\n",
       "      <th>Campinas</th>\n",
       "      <td>44045120</td>\n",
       "    </tr>\n",
       "    <tr>\n",
       "      <th>São José do Rio Preto</th>\n",
       "      <td>36579755</td>\n",
       "    </tr>\n",
       "    <tr>\n",
       "      <th>São José dos Campos</th>\n",
       "      <td>34286152</td>\n",
       "    </tr>\n",
       "    <tr>\n",
       "      <th>Ribeirão Preto</th>\n",
       "      <td>31616226</td>\n",
       "    </tr>\n",
       "    <tr>\n",
       "      <th>...</th>\n",
       "      <td>...</td>\n",
       "    </tr>\n",
       "    <tr>\n",
       "      <th>Redenção da Serra</th>\n",
       "      <td>41330</td>\n",
       "    </tr>\n",
       "    <tr>\n",
       "      <th>Borá</th>\n",
       "      <td>39166</td>\n",
       "    </tr>\n",
       "    <tr>\n",
       "      <th>Nova Castilho</th>\n",
       "      <td>36030</td>\n",
       "    </tr>\n",
       "    <tr>\n",
       "      <th>Ribeirão dos Índios</th>\n",
       "      <td>35914</td>\n",
       "    </tr>\n",
       "    <tr>\n",
       "      <th>Santana da Ponte Pensa</th>\n",
       "      <td>22709</td>\n",
       "    </tr>\n",
       "  </tbody>\n",
       "</table>\n",
       "<p>645 rows × 1 columns</p>\n",
       "</div>"
      ],
      "text/plain": [
       "                            casos\n",
       "Município                        \n",
       "São Paulo               390932404\n",
       "Campinas                 44045120\n",
       "São José do Rio Preto    36579755\n",
       "São José dos Campos      34286152\n",
       "Ribeirão Preto           31616226\n",
       "...                           ...\n",
       "Redenção da Serra           41330\n",
       "Borá                        39166\n",
       "Nova Castilho               36030\n",
       "Ribeirão dos Índios         35914\n",
       "Santana da Ponte Pensa      22709\n",
       "\n",
       "[645 rows x 1 columns]"
      ]
     },
     "execution_count": 37,
     "metadata": {},
     "output_type": "execute_result"
    }
   ],
   "source": [
    "# municipios e os caso de COVID-19\n",
    "dados.groupby('Município').agg({'casos':'sum'}).sort_values(by='casos', ascending=False)"
   ]
  },
  {
   "cell_type": "code",
   "execution_count": 38,
   "id": "a8606e55",
   "metadata": {},
   "outputs": [
    {
     "data": {
      "text/plain": [
       "Text(0.5, 0, 'data')"
      ]
     },
     "execution_count": 38,
     "metadata": {},
     "output_type": "execute_result"
    },
    {
     "data": {
      "image/png": "[encoded data removed]",
      "text/plain": [
       "<Figure size 648x288 with 1 Axes>"
      ]
     },
     "metadata": {
      "needs_background": "light"
     },
     "output_type": "display_data"
    }
   ],
   "source": [
    "plt.figure(figsize=(9,4))\n",
    "sns.lineplot(data=dados, x='datahora', y='casos', ci=None, linestyle='--', lw=2)\n",
    "plt.xlabel('data')"
   ]
  },
  {
   "cell_type": "code",
   "execution_count": 39,
   "id": "d0793275",
   "metadata": {},
   "outputs": [
    {
     "data": {
      "text/plain": [
       "1641692263"
      ]
     },
     "execution_count": 39,
     "metadata": {},
     "output_type": "execute_result"
    }
   ],
   "source": [
    "# Total de casos\n",
    "sum(dados['casos'])"
   ]
  },
  {
   "cell_type": "code",
   "execution_count": 40,
   "id": "d47eec0d",
   "metadata": {},
   "outputs": [
    {
     "data": {
      "text/plain": [
       "32319286876"
      ]
     },
     "execution_count": 40,
     "metadata": {},
     "output_type": "execute_result"
    }
   ],
   "source": [
    "# População\n",
    "sum(dados['pop'])"
   ]
  },
  {
   "cell_type": "code",
   "execution_count": 41,
   "id": "107cece5",
   "metadata": {},
   "outputs": [
    {
     "data": {
      "text/plain": [
       "41061"
      ]
     },
     "execution_count": 41,
     "metadata": {},
     "output_type": "execute_result"
    }
   ],
   "source": [
    "# máximo de obitos em um dia\n",
    "max(dados['obitos'])"
   ]
  },
  {
   "cell_type": "code",
   "execution_count": 42,
   "id": "81b56deb",
   "metadata": {},
   "outputs": [
    {
     "data": {
      "text/plain": [
       "Text(0.5, 1.0, 'Casos novos Registrados')"
      ]
     },
     "execution_count": 42,
     "metadata": {},
     "output_type": "execute_result"
    },
    {
     "data": {
      "image/png": "[encoded data removed]",
      "text/plain": [
       "<Figure size 720x288 with 1 Axes>"
      ]
     },
     "metadata": {
      "needs_background": "light"
     },
     "output_type": "display_data"
    }
   ],
   "source": [
    "plt.figure(figsize=(10,4))\n",
    "sns.lineplot(data=dados, x='datahora', y='casos_novos', ci=None, color='darkred')\n",
    "plt.xlabel('data')\n",
    "plt.title('Casos novos Registrados')"
   ]
  },
  {
   "cell_type": "code",
   "execution_count": 43,
   "id": "94c9b4a3",
   "metadata": {},
   "outputs": [
    {
     "data": {
      "text/plain": [
       "Text(0.5, 0, 'data')"
      ]
     },
     "execution_count": 43,
     "metadata": {},
     "output_type": "execute_result"
    },
    {
     "data": {
      "image/png": "[encoded data removed]",
      "text/plain": [
       "<Figure size 720x288 with 1 Axes>"
      ]
     },
     "metadata": {
      "needs_background": "light"
     },
     "output_type": "display_data"
    }
   ],
   "source": [
    "plt.figure(figsize=(10,4))\n",
    "sns.lineplot(data=dados, x='datahora', y='obitos_novos', ci=None)\n",
    "plt.xlabel('data')"
   ]
  },
  {
   "cell_type": "code",
   "execution_count": 44,
   "id": "19a2ea91",
   "metadata": {},
   "outputs": [],
   "source": [
    "#sns.lineplot(data=dados, x='datahora', y='letalidade', ci=None)\n",
    "#plt.xlabel('data')"
   ]
  },
  {
   "cell_type": "code",
   "execution_count": 45,
   "id": "975a601c",
   "metadata": {},
   "outputs": [
    {
     "data": {
      "text/plain": [
       "Text(0, 0.5, 'Média movel de casos últimos 7 dias')"
      ]
     },
     "execution_count": 45,
     "metadata": {},
     "output_type": "execute_result"
    },
    {
     "data": {
      "image/png": "[encoded data removed]",
      "text/plain": [
       "<Figure size 1152x360 with 1 Axes>"
      ]
     },
     "metadata": {
      "needs_background": "light"
     },
     "output_type": "display_data"
    }
   ],
   "source": [
    "plt.figure(figsize=(16,5))\n",
    "sns.lineplot(data=dados, x='datahora', y='casos_mm7d', ci=None, color='k', ms=3)\n",
    "plt.xlabel('data', fontsize=15)\n",
    "plt.title('Média móvel dos últimos 7 dias dos novos casos', fontsize=15)\n",
    "plt.ylabel('Média movel de casos últimos 7 dias', fontsize=14)"
   ]
  },
  {
   "cell_type": "code",
   "execution_count": 46,
   "id": "2a23f3a6",
   "metadata": {},
   "outputs": [
    {
     "data": {
      "text/plain": [
       "Text(0, 0.5, 'Média movel óbitos últimos 7 dias')"
      ]
     },
     "execution_count": 46,
     "metadata": {},
     "output_type": "execute_result"
    },
    {
     "data": {
      "image/png": "[encoded data removed]",
      "text/plain": [
       "<Figure size 1152x360 with 1 Axes>"
      ]
     },
     "metadata": {
      "needs_background": "light"
     },
     "output_type": "display_data"
    }
   ],
   "source": [
    "plt.figure(figsize=(16,5))\n",
    "sns.lineplot(data=dados, x='datahora', y='obitos_mm7d', color='dimgrey', ci=None)\n",
    "plt.title('Média móvel dos últimos 7 dias dos novos obitos', fontsize=15)\n",
    "plt.xlabel('data', fontsize=15)\n",
    "plt.ylabel('Média movel óbitos últimos 7 dias', fontsize=13)"
   ]
  },
  {
   "cell_type": "code",
   "execution_count": 47,
   "id": "540dd142",
   "metadata": {},
   "outputs": [
    {
     "data": {
      "text/plain": [
       "Text(0, 0.5, 'letalidade')"
      ]
     },
     "execution_count": 47,
     "metadata": {},
     "output_type": "execute_result"
    },
    {
     "data": {
      "image/png": "[encoded data removed]",
      "text/plain": [
       "<Figure size 1080x360 with 1 Axes>"
      ]
     },
     "metadata": {
      "needs_background": "light"
     },
     "output_type": "display_data"
    }
   ],
   "source": [
    "plt.figure(figsize=(15,5))\n",
    "sns.barplot(data=dados, x='semana_epidem', y='letalidade', ci=None)\n",
    "plt.title('letalidade X semana de epidemia', fontsize=18)\n",
    "plt.xlabel('semana de epidemia', fontsize=15)\n",
    "plt.ylabel('letalidade', fontsize=15)"
   ]
  },
  {
   "cell_type": "code",
   "execution_count": 48,
   "id": "16a3ed59",
   "metadata": {},
   "outputs": [],
   "source": [
    "# Qual é o municipio com mais casos de COVID-19"
   ]
  },
  {
   "cell_type": "code",
   "execution_count": 49,
   "id": "55e94967",
   "metadata": {},
   "outputs": [
    {
     "data": {
      "text/html": [
       "<div>\n",
       "<style scoped>\n",
       "    .dataframe tbody tr th:only-of-type {\n",
       "        vertical-align: middle;\n",
       "    }\n",
       "\n",
       "    .dataframe tbody tr th {\n",
       "        vertical-align: top;\n",
       "    }\n",
       "\n",
       "    .dataframe thead th {\n",
       "        text-align: right;\n",
       "    }\n",
       "</style>\n",
       "<table border=\"1\" class=\"dataframe\">\n",
       "  <thead>\n",
       "    <tr style=\"text-align: right;\">\n",
       "      <th></th>\n",
       "      <th>Município</th>\n",
       "      <th>codigo_ibge</th>\n",
       "      <th>datahora</th>\n",
       "      <th>casos</th>\n",
       "      <th>casos_novos</th>\n",
       "      <th>casos_pc</th>\n",
       "      <th>casos_mm7d</th>\n",
       "      <th>obitos</th>\n",
       "      <th>obitos_novos</th>\n",
       "      <th>obitos_pc</th>\n",
       "      <th>obitos_mm7d</th>\n",
       "      <th>letalidade</th>\n",
       "      <th>nome_ra</th>\n",
       "      <th>cod_ra</th>\n",
       "      <th>nome_drs</th>\n",
       "      <th>cod_drs</th>\n",
       "      <th>pop</th>\n",
       "      <th>semana_epidem</th>\n",
       "    </tr>\n",
       "  </thead>\n",
       "  <tbody>\n",
       "    <tr>\n",
       "      <th>0</th>\n",
       "      <td>Adamantina</td>\n",
       "      <td>3500105</td>\n",
       "      <td>2020-02-25</td>\n",
       "      <td>0</td>\n",
       "      <td>0</td>\n",
       "      <td>0</td>\n",
       "      <td>0</td>\n",
       "      <td>0</td>\n",
       "      <td>0</td>\n",
       "      <td>0</td>\n",
       "      <td>0</td>\n",
       "      <td>0</td>\n",
       "      <td>RA de Presidente Prudente</td>\n",
       "      <td>9</td>\n",
       "      <td>Marília</td>\n",
       "      <td>5</td>\n",
       "      <td>33894</td>\n",
       "      <td>9</td>\n",
       "    </tr>\n",
       "    <tr>\n",
       "      <th>1</th>\n",
       "      <td>Adolfo</td>\n",
       "      <td>3500204</td>\n",
       "      <td>2020-02-25</td>\n",
       "      <td>0</td>\n",
       "      <td>0</td>\n",
       "      <td>0</td>\n",
       "      <td>0</td>\n",
       "      <td>0</td>\n",
       "      <td>0</td>\n",
       "      <td>0</td>\n",
       "      <td>0</td>\n",
       "      <td>0</td>\n",
       "      <td>RA de São José do Rio Preto</td>\n",
       "      <td>14</td>\n",
       "      <td>São José do Rio Preto</td>\n",
       "      <td>15</td>\n",
       "      <td>3447</td>\n",
       "      <td>9</td>\n",
       "    </tr>\n",
       "    <tr>\n",
       "      <th>2</th>\n",
       "      <td>Aguaí</td>\n",
       "      <td>3500303</td>\n",
       "      <td>2020-02-25</td>\n",
       "      <td>0</td>\n",
       "      <td>0</td>\n",
       "      <td>0</td>\n",
       "      <td>0</td>\n",
       "      <td>0</td>\n",
       "      <td>0</td>\n",
       "      <td>0</td>\n",
       "      <td>0</td>\n",
       "      <td>0</td>\n",
       "      <td>RA de Campinas</td>\n",
       "      <td>4</td>\n",
       "      <td>São João da Boa Vista</td>\n",
       "      <td>14</td>\n",
       "      <td>35608</td>\n",
       "      <td>9</td>\n",
       "    </tr>\n",
       "    <tr>\n",
       "      <th>3</th>\n",
       "      <td>Águas da Prata</td>\n",
       "      <td>3500402</td>\n",
       "      <td>2020-02-25</td>\n",
       "      <td>0</td>\n",
       "      <td>0</td>\n",
       "      <td>0</td>\n",
       "      <td>0</td>\n",
       "      <td>0</td>\n",
       "      <td>0</td>\n",
       "      <td>0</td>\n",
       "      <td>0</td>\n",
       "      <td>0</td>\n",
       "      <td>RA de Campinas</td>\n",
       "      <td>4</td>\n",
       "      <td>São João da Boa Vista</td>\n",
       "      <td>14</td>\n",
       "      <td>7797</td>\n",
       "      <td>9</td>\n",
       "    </tr>\n",
       "    <tr>\n",
       "      <th>4</th>\n",
       "      <td>Águas de Lindóia</td>\n",
       "      <td>3500501</td>\n",
       "      <td>2020-02-25</td>\n",
       "      <td>0</td>\n",
       "      <td>0</td>\n",
       "      <td>0</td>\n",
       "      <td>0</td>\n",
       "      <td>0</td>\n",
       "      <td>0</td>\n",
       "      <td>0</td>\n",
       "      <td>0</td>\n",
       "      <td>0</td>\n",
       "      <td>RA de Campinas</td>\n",
       "      <td>4</td>\n",
       "      <td>Campinas</td>\n",
       "      <td>3</td>\n",
       "      <td>18374</td>\n",
       "      <td>9</td>\n",
       "    </tr>\n",
       "  </tbody>\n",
       "</table>\n",
       "</div>"
      ],
      "text/plain": [
       "          Município  codigo_ibge   datahora  casos  casos_novos  casos_pc  \\\n",
       "0        Adamantina      3500105 2020-02-25      0            0         0   \n",
       "1            Adolfo      3500204 2020-02-25      0            0         0   \n",
       "2             Aguaí      3500303 2020-02-25      0            0         0   \n",
       "3    Águas da Prata      3500402 2020-02-25      0            0         0   \n",
       "4  Águas de Lindóia      3500501 2020-02-25      0            0         0   \n",
       "\n",
       "   casos_mm7d  obitos  obitos_novos  obitos_pc  obitos_mm7d  letalidade  \\\n",
       "0           0       0             0          0            0           0   \n",
       "1           0       0             0          0            0           0   \n",
       "2           0       0             0          0            0           0   \n",
       "3           0       0             0          0            0           0   \n",
       "4           0       0             0          0            0           0   \n",
       "\n",
       "                       nome_ra  cod_ra               nome_drs  cod_drs    pop  \\\n",
       "0    RA de Presidente Prudente       9                Marília        5  33894   \n",
       "1  RA de São José do Rio Preto      14  São José do Rio Preto       15   3447   \n",
       "2               RA de Campinas       4  São João da Boa Vista       14  35608   \n",
       "3               RA de Campinas       4  São João da Boa Vista       14   7797   \n",
       "4               RA de Campinas       4               Campinas        3  18374   \n",
       "\n",
       "   semana_epidem  \n",
       "0              9  \n",
       "1              9  \n",
       "2              9  \n",
       "3              9  \n",
       "4              9  "
      ]
     },
     "execution_count": 49,
     "metadata": {},
     "output_type": "execute_result"
    }
   ],
   "source": [
    "dados.head()"
   ]
  },
  {
   "cell_type": "markdown",
   "id": "2a7ea4e1",
   "metadata": {},
   "source": [
    "## Como anda a apicação de vacina na população"
   ]
  },
  {
   "cell_type": "code",
   "execution_count": 50,
   "id": "5f72a5c3",
   "metadata": {},
   "outputs": [
    {
     "data": {
      "text/html": [
       "<div>\n",
       "<style scoped>\n",
       "    .dataframe tbody tr th:only-of-type {\n",
       "        vertical-align: middle;\n",
       "    }\n",
       "\n",
       "    .dataframe tbody tr th {\n",
       "        vertical-align: top;\n",
       "    }\n",
       "\n",
       "    .dataframe thead th {\n",
       "        text-align: right;\n",
       "    }\n",
       "</style>\n",
       "<table border=\"1\" class=\"dataframe\">\n",
       "  <thead>\n",
       "    <tr style=\"text-align: right;\">\n",
       "      <th></th>\n",
       "      <th>Município</th>\n",
       "      <th>Dose</th>\n",
       "      <th>Total Doses Aplicadas</th>\n",
       "    </tr>\n",
       "  </thead>\n",
       "  <tbody>\n",
       "    <tr>\n",
       "      <th>0</th>\n",
       "      <td>ZACARIAS</td>\n",
       "      <td>UNICA</td>\n",
       "      <td>72</td>\n",
       "    </tr>\n",
       "    <tr>\n",
       "      <th>1</th>\n",
       "      <td>VOTUPORANGA</td>\n",
       "      <td>UNICA</td>\n",
       "      <td>2351</td>\n",
       "    </tr>\n",
       "    <tr>\n",
       "      <th>2</th>\n",
       "      <td>VOTORANTIM</td>\n",
       "      <td>UNICA</td>\n",
       "      <td>3314</td>\n",
       "    </tr>\n",
       "    <tr>\n",
       "      <th>3</th>\n",
       "      <td>VITÓRIA BRASIL</td>\n",
       "      <td>UNICA</td>\n",
       "      <td>37</td>\n",
       "    </tr>\n",
       "    <tr>\n",
       "      <th>4</th>\n",
       "      <td>VISTA ALEGRE DO ALTO</td>\n",
       "      <td>UNICA</td>\n",
       "      <td>258</td>\n",
       "    </tr>\n",
       "  </tbody>\n",
       "</table>\n",
       "</div>"
      ],
      "text/plain": [
       "              Município   Dose  Total Doses Aplicadas\n",
       "0              ZACARIAS  UNICA                     72\n",
       "1           VOTUPORANGA  UNICA                   2351\n",
       "2            VOTORANTIM  UNICA                   3314\n",
       "3        VITÓRIA BRASIL  UNICA                     37\n",
       "4  VISTA ALEGRE DO ALTO  UNICA                    258"
      ]
     },
     "execution_count": 50,
     "metadata": {},
     "output_type": "execute_result"
    }
   ],
   "source": [
    "vacina = pd.read_csv(\"vacinometro.csv\", sep=';')\n",
    "vacina.head()"
   ]
  },
  {
   "cell_type": "code",
   "execution_count": 51,
   "id": "864889c8",
   "metadata": {},
   "outputs": [],
   "source": [
    "aplicacao_dose = vacina.groupby('Dose').agg({'Total Doses Aplicadas':'sum'})"
   ]
  },
  {
   "cell_type": "code",
   "execution_count": 52,
   "id": "ce45381f",
   "metadata": {},
   "outputs": [
    {
     "data": {
      "text/html": [
       "<div>\n",
       "<style scoped>\n",
       "    .dataframe tbody tr th:only-of-type {\n",
       "        vertical-align: middle;\n",
       "    }\n",
       "\n",
       "    .dataframe tbody tr th {\n",
       "        vertical-align: top;\n",
       "    }\n",
       "\n",
       "    .dataframe thead th {\n",
       "        text-align: right;\n",
       "    }\n",
       "</style>\n",
       "<table border=\"1\" class=\"dataframe\">\n",
       "  <thead>\n",
       "    <tr style=\"text-align: right;\">\n",
       "      <th></th>\n",
       "      <th>Total Doses Aplicadas</th>\n",
       "    </tr>\n",
       "    <tr>\n",
       "      <th>Dose</th>\n",
       "      <th></th>\n",
       "    </tr>\n",
       "  </thead>\n",
       "  <tbody>\n",
       "    <tr>\n",
       "      <th>1° DOSE</th>\n",
       "      <td>40885004</td>\n",
       "    </tr>\n",
       "    <tr>\n",
       "      <th>2° DOSE</th>\n",
       "      <td>36321022</td>\n",
       "    </tr>\n",
       "    <tr>\n",
       "      <th>3º DOSE</th>\n",
       "      <td>19270376</td>\n",
       "    </tr>\n",
       "    <tr>\n",
       "      <th>UNICA</th>\n",
       "      <td>1204890</td>\n",
       "    </tr>\n",
       "  </tbody>\n",
       "</table>\n",
       "</div>"
      ],
      "text/plain": [
       "         Total Doses Aplicadas\n",
       "Dose                          \n",
       "1° DOSE               40885004\n",
       "2° DOSE               36321022\n",
       "3º DOSE               19270376\n",
       "UNICA                  1204890"
      ]
     },
     "execution_count": 52,
     "metadata": {},
     "output_type": "execute_result"
    }
   ],
   "source": [
    "aplicacao_dose"
   ]
  },
  {
   "cell_type": "code",
   "execution_count": 53,
   "id": "7801a48c",
   "metadata": {
    "scrolled": false
   },
   "outputs": [
    {
     "data": {
      "text/plain": [
       "97681292"
      ]
     },
     "execution_count": 53,
     "metadata": {},
     "output_type": "execute_result"
    }
   ],
   "source": [
    "sum(vacina['Total Doses Aplicadas'])"
   ]
  },
  {
   "cell_type": "code",
   "execution_count": 54,
   "id": "3a3827a5",
   "metadata": {},
   "outputs": [],
   "source": [
    "total_doses = sum(vacina['Total Doses Aplicadas'])"
   ]
  },
  {
   "cell_type": "code",
   "execution_count": 55,
   "id": "6f83cc27",
   "metadata": {
    "scrolled": true
   },
   "outputs": [
    {
     "name": "stdout",
     "output_type": "stream",
     "text": [
      "O total de Doses aplicadas foi 97681292 vacinas\n"
     ]
    }
   ],
   "source": [
    "print(f'O total de Doses aplicadas foi {total_doses} vacinas')"
   ]
  },
  {
   "cell_type": "code",
   "execution_count": null,
   "id": "9cd27573",
   "metadata": {},
   "outputs": [],
   "source": []
  },
  {
   "cell_type": "code",
   "execution_count": null,
   "id": "52fa60e3",
   "metadata": {},
   "outputs": [],
   "source": []
  }
 ],
 "metadata": {
  "kernelspec": {
   "display_name": "Python 3",
   "language": "python",
   "name": "python3"
  },
  "language_info": {
   "codemirror_mode": {
    "name": "ipython",
    "version": 3
   },
   "file_extension": ".py",
   "mimetype": "text/x-python",
   "name": "python",
   "nbconvert_exporter": "python",
   "pygments_lexer": "ipython3",
   "version": "3.8.8"
  }
 },
 "nbformat": 4,
 "nbformat_minor": 5
}
